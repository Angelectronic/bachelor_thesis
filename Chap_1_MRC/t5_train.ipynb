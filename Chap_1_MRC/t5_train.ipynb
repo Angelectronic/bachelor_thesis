{
 "cells": [
  {
   "cell_type": "code",
   "execution_count": 1,
   "metadata": {},
   "outputs": [
    {
     "name": "stderr",
     "output_type": "stream",
     "text": [
      "Found cached dataset parquet (C:/Users/lg/.cache/huggingface/datasets/Angelectronic___parquet/Angelectronic--PhoMT_MTet-4fb60bd61bf905c1/0.0.0/2a3b91fbd88a2c90d1dbbb32b460cf621d31bd5b05b934492fdef7d8d6f236ec)\n"
     ]
    },
    {
     "data": {
      "application/vnd.jupyter.widget-view+json": {
       "model_id": "cc7132888f0b492a9e1b625149465172",
       "version_major": 2,
       "version_minor": 0
      },
      "text/plain": [
       "  0%|          | 0/3 [00:00<?, ?it/s]"
      ]
     },
     "metadata": {},
     "output_type": "display_data"
    },
    {
     "name": "stderr",
     "output_type": "stream",
     "text": [
      "Loading cached processed dataset at C:\\Users\\lg\\.cache\\huggingface\\datasets\\Angelectronic___parquet\\Angelectronic--PhoMT_MTet-4fb60bd61bf905c1\\0.0.0\\2a3b91fbd88a2c90d1dbbb32b460cf621d31bd5b05b934492fdef7d8d6f236ec\\cache-e17b29c78123ce07.arrow\n"
     ]
    },
    {
     "data": {
      "text/plain": [
       "DatasetDict({\n",
       "    train: Dataset({\n",
       "        features: ['en', 'vi', 'source'],\n",
       "        num_rows: 6280518\n",
       "    })\n",
       "    test: Dataset({\n",
       "        features: ['en', 'vi', 'source'],\n",
       "        num_rows: 19111\n",
       "    })\n",
       "    dev: Dataset({\n",
       "        features: ['en', 'vi', 'source'],\n",
       "        num_rows: 18656\n",
       "    })\n",
       "})"
      ]
     },
     "execution_count": 1,
     "metadata": {},
     "output_type": "execute_result"
    }
   ],
   "source": [
    "from datasets import load_dataset\n",
    "import random\n",
    "random.seed(42)\n",
    "\n",
    "sample_size_train = 133166\n",
    "sample_size_test = 1268\n",
    "\n",
    "dataset = load_dataset(\"Angelectronic/PhoMT_MTet\")\n",
    "dataset['test'] = dataset['test'].filter(lambda x: x['source'] == 'PhoMT')\n",
    "# random_indices_train = random.sample(range(len(dataset['train'])), sample_size_train)\n",
    "# dataset['train'] = dataset['train'].select(random_indices_train)\n",
    "# dataset['train'] = dataset['train'].filter(lambda x: len(x['translation']['vi'].strip()) > 0 and len(x['translation']['en'].strip()) > 0)\n",
    "\n",
    "# random_indices_test = random.sample(range(len(dataset['test'])), sample_size_test)\n",
    "# dataset['test'] = dataset['test'].select(random_indices_test)\n",
    "dataset"
   ]
  },
  {
   "cell_type": "code",
   "execution_count": 2,
   "metadata": {},
   "outputs": [
    {
     "name": "stderr",
     "output_type": "stream",
     "text": [
      "c:\\Users\\lg\\anaconda3\\lib\\site-packages\\torch\\_utils.py:776: UserWarning: TypedStorage is deprecated. It will be removed in the future and UntypedStorage will be the only storage class. This should only matter to you if you are using storages directly.  To access UntypedStorage directly, use tensor.untyped_storage() instead of tensor.storage()\n",
      "  return self.fget.__get__(instance, owner)()\n"
     ]
    }
   ],
   "source": [
    "from transformers import AutoModelForSeq2SeqLM, AutoTokenizer\n",
    "from peft import PeftModel, PeftConfig\n",
    "\n",
    "base_model = \"VietAI/envit5-translation\"\n",
    "adapter_model = \"Angelectronic/iai-T5\"\n",
    "\n",
    "model = AutoModelForSeq2SeqLM.from_pretrained(base_model)\n",
    "model = PeftModel.from_pretrained(model, adapter_model)\n",
    "tokenizer = AutoTokenizer.from_pretrained(base_model)\n",
    "\n",
    "model = model.to(\"cuda\")"
   ]
  },
  {
   "cell_type": "code",
   "execution_count": 3,
   "metadata": {},
   "outputs": [
    {
     "name": "stderr",
     "output_type": "stream",
     "text": [
      "100%|██████████| 19111/19111 [12:22:50<00:00,  2.33s/it]  \n"
     ]
    },
    {
     "data": {
      "text/plain": [
       "{'score': 44.840040999922415,\n",
       " 'counts': [304396, 207969, 145932, 107831],\n",
       " 'totals': [425445, 406334, 387223, 368112],\n",
       " 'precisions': [71.54767361233532,\n",
       "  51.18178641216339,\n",
       "  37.68681095905977,\n",
       "  29.292986917025253],\n",
       " 'bp': 1.0,\n",
       " 'sys_len': 425445,\n",
       " 'ref_len': 417194}"
      ]
     },
     "execution_count": 3,
     "metadata": {},
     "output_type": "execute_result"
    }
   ],
   "source": [
    "import evaluate\n",
    "from tqdm import tqdm\n",
    "\n",
    "metric = evaluate.load(\"sacrebleu\")\n",
    "labels = ['vi: ' + dataset['test'][i]['vi'] for i in range(len(dataset['test']))]\n",
    "inputs = ['en: ' + dataset['test'][i]['en'] for i in range(len(dataset['test']))]\n",
    "outputs = []\n",
    "for input in tqdm(inputs):\n",
    "    output = model.generate(tokenizer(input, return_tensors=\"pt\", padding=True).input_ids.to('cuda'), max_length=1024, num_beams=5, num_return_sequences=1)\n",
    "    output = tokenizer.batch_decode(output, skip_special_tokens=True)[0]\n",
    "    outputs.append(output)\n",
    "\n",
    "results = metric.compute(predictions=outputs, references=labels)\n",
    "results"
   ]
  }
 ],
 "metadata": {
  "kernelspec": {
   "display_name": "base",
   "language": "python",
   "name": "python3"
  },
  "language_info": {
   "codemirror_mode": {
    "name": "ipython",
    "version": 3
   },
   "file_extension": ".py",
   "mimetype": "text/x-python",
   "name": "python",
   "nbconvert_exporter": "python",
   "pygments_lexer": "ipython3",
   "version": "3.9.18"
  }
 },
 "nbformat": 4,
 "nbformat_minor": 2
}
