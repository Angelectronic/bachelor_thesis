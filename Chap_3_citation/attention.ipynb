{
 "cells": [
  {
   "cell_type": "code",
   "execution_count": 1,
   "metadata": {},
   "outputs": [
    {
     "data": {
      "text/plain": [
       "torch.Size([5000, 13, 768])"
      ]
     },
     "execution_count": 1,
     "metadata": {},
     "output_type": "execute_result"
    }
   ],
   "source": [
    "import torch\n",
    "\n",
    "dataset = torch.rand(5000, 13, 768)\n",
    "labels = torch.randint(0, 2, (5000, ))\n",
    "embedding_size = 768\n",
    "top_k = 10\n",
    "dataset.shape"
   ]
  },
  {
   "cell_type": "code",
   "execution_count": 2,
   "metadata": {},
   "outputs": [
    {
     "data": {
      "text/plain": [
       "(torch.Size([4000, 13, 768]), torch.Size([1000, 13, 768]))"
      ]
     },
     "execution_count": 2,
     "metadata": {},
     "output_type": "execute_result"
    }
   ],
   "source": [
    "from sklearn.model_selection import train_test_split\n",
    "\n",
    "train, test, train_labels, test_labels = train_test_split(dataset, labels, test_size=0.2, random_state=42)\n",
    "train.shape, test.shape"
   ]
  },
  {
   "cell_type": "code",
   "execution_count": 3,
   "metadata": {},
   "outputs": [
    {
     "data": {
      "text/plain": [
       "(torch.Size([768]),\n",
       " torch.Size([768]),\n",
       " torch.Size([768]),\n",
       " torch.Size([10, 768]),\n",
       " tensor(0, device='cuda:0'))"
      ]
     },
     "execution_count": 3,
     "metadata": {},
     "output_type": "execute_result"
    }
   ],
   "source": [
    "from torch.utils.data import DataLoader, Dataset\n",
    "\n",
    "class CustomDataset(Dataset):\n",
    "    def __init__(self, data, labels):\n",
    "        self.data = data\n",
    "        self.labels = labels\n",
    "\n",
    "    def __len__(self):\n",
    "        return len(self.data)\n",
    "    \n",
    "    def __getitem__(self, idx):\n",
    "        return self.data[idx][0].clone().detach().cuda(), self.data[idx][1].clone().detach().cuda(), self.data[idx][2].clone().detach().cuda(), self.data[idx][3:].clone().detach().cuda(), self.labels[idx].clone().detach().cuda()\n",
    "\n",
    "train_dataset = CustomDataset(train, train_labels)\n",
    "test_dataset = CustomDataset(test, test_labels)\n",
    "\n",
    "train_loader = DataLoader(train_dataset, batch_size=32, shuffle=True)\n",
    "test_loader = DataLoader(test_dataset, batch_size=32, shuffle=False)\n",
    "\n",
    "train_dataset.__getitem__(0)[0].shape, train_dataset.__getitem__(0)[1].shape, train_dataset.__getitem__(0)[2].shape, train_dataset.__getitem__(0)[3].shape, train_dataset.__getitem__(0)[4]"
   ]
  },
  {
   "cell_type": "code",
   "execution_count": null,
   "metadata": {},
   "outputs": [
    {
     "name": "stdout",
     "output_type": "stream",
     "text": [
      "torch.Size([2, 4, 1])\n"
     ]
    },
    {
     "data": {
      "text/plain": [
       "tensor([[0.5149],\n",
       "        [0.5149]], device='cuda:0', grad_fn=<SigmoidBackward0>)"
      ]
     },
     "execution_count": 10,
     "metadata": {},
     "output_type": "execute_result"
    }
   ],
   "source": [
    "from torch import nn\n",
    "from torch.functional import F\n",
    "\n",
    "class Model(nn.Module):\n",
    "    def __init__(self, embedding_size=768):\n",
    "        super(Model, self).__init__()\n",
    "        self.encoder = nn.Sequential(\n",
    "            nn.Linear(embedding_size*3, 512),\n",
    "            nn.ReLU(),\n",
    "            nn.Linear(512, 256),\n",
    "            nn.ReLU(),\n",
    "            nn.Linear(256, 128),\n",
    "            nn.ReLU(),\n",
    "            nn.Linear(128, 1),\n",
    "            nn.Sigmoid()\n",
    "        )\n",
    "\n",
    "        \n",
    "    def forward(self, text, candidate_title, candidate_abstract, text_citation):\n",
    "        concat_text_citation = torch.cat([text.unsqueeze(1), text_citation], dim=1)\n",
    "\n",
    "        att_title_citation = torch.bmm(F.normalize(concat_text_citation, p=2, dim=2), F.normalize(candidate_title.unsqueeze(1).permute(0, 2, 1), p=2, dim=2))\n",
    "        att_title_citation_value = nn.functional.softmax(att_title_citation, dim=1)\n",
    "        title_citation_after_attention = (concat_text_citation * att_title_citation_value).sum(dim=1)\n",
    "\n",
    "        att_abstract_citation = torch.bmm(F.normalize(concat_text_citation, p=2, dim=2), F.normalize(candidate_abstract.unsqueeze(1).permute(0, 2, 1), p=2, dim=2))\n",
    "        att_abstract_citation_value = nn.functional.softmax(att_abstract_citation, dim=1)\n",
    "        abstract_citation_after_attention = (concat_text_citation * att_abstract_citation_value).sum(dim=1)\n",
    "\n",
    "\n",
    "        x = torch.cat([text, title_citation_after_attention, abstract_citation_after_attention], dim=1)\n",
    "        return self.encoder(x)\n",
    "    \n",
    "text = torch.randint(0, 5, (2, 3)).float().to('cuda')\n",
    "candidate_title = torch.randint(0, 5, (2, 3)).float().to('cuda')\n",
    "candidate_abstract = torch.randint(0, 5, (2, 3)).float().to('cuda')\n",
    "text_citation = torch.randint(0, 5, (2, 3, 3)).float().to('cuda')\n",
    "model = Model(embedding_size=text.shape[1]).to('cuda')\n",
    "model(text, candidate_title, candidate_abstract, text_citation)"
   ]
  },
  {
   "cell_type": "code",
   "execution_count": 23,
   "metadata": {},
   "outputs": [
    {
     "name": "stdout",
     "output_type": "stream",
     "text": [
      "Epoch 1\n",
      "Train Loss: 0.6937, Train Acc: 0.4915\n",
      "Test Loss: 0.6932, Test Acc: 0.5050\n",
      "Epoch 2\n",
      "Train Loss: 0.6937, Train Acc: 0.4915\n",
      "Test Loss: 0.6932, Test Acc: 0.5050\n",
      "Epoch 3\n",
      "Train Loss: 0.6937, Train Acc: 0.4915\n",
      "Test Loss: 0.6932, Test Acc: 0.5050\n",
      "Epoch 4\n",
      "Train Loss: 0.6937, Train Acc: 0.4915\n",
      "Test Loss: 0.6932, Test Acc: 0.5050\n",
      "Epoch 5\n",
      "Train Loss: 0.6937, Train Acc: 0.4915\n",
      "Test Loss: 0.6932, Test Acc: 0.5050\n",
      "Epoch 6\n",
      "Train Loss: 0.6937, Train Acc: 0.4915\n",
      "Test Loss: 0.6932, Test Acc: 0.5050\n",
      "Epoch 7\n",
      "Train Loss: 0.6937, Train Acc: 0.4915\n",
      "Test Loss: 0.6932, Test Acc: 0.5050\n",
      "Epoch 8\n",
      "Train Loss: 0.6937, Train Acc: 0.4915\n",
      "Test Loss: 0.6932, Test Acc: 0.5050\n",
      "Epoch 9\n",
      "Train Loss: 0.6937, Train Acc: 0.4915\n",
      "Test Loss: 0.6932, Test Acc: 0.5050\n",
      "Epoch 10\n",
      "Train Loss: 0.6937, Train Acc: 0.4915\n",
      "Test Loss: 0.6932, Test Acc: 0.5050\n"
     ]
    }
   ],
   "source": [
    "def train_epoch(model, train_loader, criterion, optimizer):\n",
    "    model.train()\n",
    "    train_loss = 0\n",
    "    correct = 0\n",
    "    for text, candidate_title, candidate_abstract, text_citation, labels in train_loader:\n",
    "        optimizer.zero_grad()\n",
    "        output = model(text, candidate_title, candidate_abstract, text_citation)\n",
    "        loss = criterion(output, labels.unsqueeze(1).to(torch.float32))\n",
    "        loss.backward()\n",
    "        optimizer.step()\n",
    "        train_loss += loss.item()\n",
    "        correct += (output > 0.5).eq(labels.unsqueeze(1)).sum().item()\n",
    "    return train_loss / len(train_loader), correct / len(train_loader.dataset)\n",
    "\n",
    "def test_epoch(model, test_loader, criterion):\n",
    "    model.eval()\n",
    "    test_loss = 0\n",
    "    correct = 0\n",
    "    with torch.no_grad():\n",
    "        for text, candidate_title, candidate_abstract, text_citation, labels in test_loader:\n",
    "            output = model(text, candidate_title, candidate_abstract, text_citation)\n",
    "            loss = criterion(output, labels.unsqueeze(1).to(torch.float32))\n",
    "            test_loss += loss.item()\n",
    "            correct += (output > 0.5).eq(labels.unsqueeze(1)).sum().item()\n",
    "    return test_loss / len(test_loader), correct / len(test_loader.dataset)\n",
    "\n",
    "criterion = nn.BCELoss()\n",
    "optimizer = torch.optim.Adam(model.parameters(), lr=0.001)\n",
    "model = Model(embedding_size=next(iter(train_loader))[0].shape[1]).to('cuda')\n",
    "\n",
    "for epoch in range(10):\n",
    "    train_loss, train_acc = train_epoch(model, train_loader, criterion, optimizer)\n",
    "    test_loss, test_acc = test_epoch(model, test_loader, criterion)\n",
    "\n",
    "    print(f'Epoch {epoch+1}')\n",
    "    print(f'Train Loss: {train_loss:.4f}, Train Acc: {train_acc:.4f}')\n",
    "    print(f'Test Loss: {test_loss:.4f}, Test Acc: {test_acc:.4f}')"
   ]
  },
  {
   "cell_type": "code",
   "execution_count": null,
   "metadata": {},
   "outputs": [],
   "source": []
  }
 ],
 "metadata": {
  "kernelspec": {
   "display_name": "tova",
   "language": "python",
   "name": "python3"
  },
  "language_info": {
   "codemirror_mode": {
    "name": "ipython",
    "version": 3
   },
   "file_extension": ".py",
   "mimetype": "text/x-python",
   "name": "python",
   "nbconvert_exporter": "python",
   "pygments_lexer": "ipython3",
   "version": "3.10.13"
  }
 },
 "nbformat": 4,
 "nbformat_minor": 2
}
